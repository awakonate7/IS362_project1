{
 "cells": [
  {
   "cell_type": "code",
   "execution_count": null,
   "id": "0da79630",
   "metadata": {},
   "outputs": [],
   "source": [
    "(1) Creating a .CSV file and (2) comparing the arrival delays for the two airlines."
   ]
  },
  {
   "cell_type": "code",
   "execution_count": null,
   "id": "5472637d",
   "metadata": {},
   "outputs": [],
   "source": [
    "import panas as pd\n",
    "import os"
   ]
  },
  {
   "cell_type": "code",
   "execution_count": null,
   "id": "17e19dd9",
   "metadata": {},
   "outputs": [],
   "source": [
    "data\n",
    "Airline\tStatus\tLos Angeles\tPhoenix\tSan Diego\tSan Francisco\tSeattle\n",
    "0\tAlaska\ton time\t497\t221\t212\t503\t1841\n",
    "1\tAlaska\tdelayed\t62\t12\t20\t102\t305\n",
    "2\tAM West\ton time\t694\t4840\t383\t320\t201\n",
    "3\tAM West\tdelayed\t117\t415\t65\t129\t61"
   ]
  },
  {
   "cell_type": "code",
   "execution_count": null,
   "id": "76785210",
   "metadata": {},
   "outputs": [],
   "source": [
    "data = pd.read_csv('project1.csv')"
   ]
  },
  {
   "cell_type": "markdown",
   "id": "f096beb5",
   "metadata": {},
   "source": [
    "Calculating avg delays per airline"
   ]
  },
  {
   "cell_type": "code",
   "execution_count": null,
   "id": "41cff3f8",
   "metadata": {},
   "outputs": [],
   "source": [
    "avg_delays = (airline_data[airline_data['Status'] == 'delayed'].head())\n",
    "\n",
    "avg_delays"
   ]
  },
  {
   "cell_type": "code",
   "execution_count": null,
   "id": "80fb5194",
   "metadata": {},
   "outputs": [],
   "source": [
    "Airline\tStatus\tLos Angeles\tPhoenix\tSan Diego\tSan Francisco\tSeattle\n",
    "1\tAlaska\tdelayed\t62\t12\t20\t102\t305\n",
    "3\tAM West\tdelayed\t117\t415\t65\t129\t61"
   ]
  },
  {
   "cell_type": "markdown",
   "id": "2bf0a0d6",
   "metadata": {},
   "source": [
    "Group by airline and status and compare the average delayed and on time flights from both airlines."
   ]
  },
  {
   "cell_type": "code",
   "execution_count": null,
   "id": "cbc772fe",
   "metadata": {},
   "outputs": [],
   "source": [
    "data.groupby(['Airline', 'Status']).mean()"
   ]
  },
  {
   "cell_type": "code",
   "execution_count": null,
   "id": "5f11dfe6",
   "metadata": {},
   "outputs": [],
   "source": [
    "\tLos Angeles\tPhoenix\tSan Diego\tSan Francisco\tSeattle\n",
    "Airline\tStatus\t\t\t\t\t\n",
    "AM West\tdelayed\t117.0\t415.0\t65.0\t129.0\t61.0\n",
    "on time\t694.0\t4840.0\t383.0\t320.0\t201.0\n",
    "Alaska\tdelayed\t62.0\t12.0\t20.0\t102.0\t305.0\n",
    "on time\t497.0\t221.0\t212.0\t503.0\t1841.0"
   ]
  },
  {
   "cell_type": "code",
   "execution_count": null,
   "id": "279ff4e2",
   "metadata": {},
   "outputs": [],
   "source": [
    "data.groupby(['Airline','Status']).plot()"
   ]
  },
  {
   "cell_type": "code",
   "execution_count": null,
   "id": "2e86d5f4",
   "metadata": {},
   "outputs": [],
   "source": [
    "Airline  Status \n",
    "AM West  delayed    AxesSubplot(0.125,0.11;0.775x0.77)\n",
    "         on time    AxesSubplot(0.125,0.11;0.775x0.77)\n",
    "Alaska   delayed    AxesSubplot(0.125,0.11;0.775x0.77)\n",
    "         on time    AxesSubplot(0.125,0.11;0.775x0.77)\n",
    "dtype: object"
   ]
  },
  {
   "cell_type": "markdown",
   "id": "28236d2a",
   "metadata": {},
   "source": [
    "Conclusion:\n",
    "\n",
    "The output of the code written based on the data from a csv file shows that the airline AM WEST had more delays at every location except for Seattle, where ALASKA airline had more delays. The third table is one that shows the mean delays by location, where Phoenix had the most delays and San Diego had the lowest."
   ]
  }
 ],
 "metadata": {
  "kernelspec": {
   "display_name": "Python 3 (ipykernel)",
   "language": "python",
   "name": "python3"
  },
  "language_info": {
   "codemirror_mode": {
    "name": "ipython",
    "version": 3
   },
   "file_extension": ".py",
   "mimetype": "text/x-python",
   "name": "python",
   "nbconvert_exporter": "python",
   "pygments_lexer": "ipython3",
   "version": "3.9.7"
  }
 },
 "nbformat": 4,
 "nbformat_minor": 5
}
